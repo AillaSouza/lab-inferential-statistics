{
 "cells": [
  {
   "cell_type": "code",
   "execution_count": 7,
   "id": "94c927bd-b485-4d85-8d92-d0c9127e036f",
   "metadata": {},
   "outputs": [],
   "source": [
    "# Libraries\n",
    "import math\n",
    "import pandas as pd\n",
    "import numpy as np\n",
    "import matplotlib.pyplot as plt\n",
    "import scipy.stats as st\n",
    "import statsmodels.api as sm\n",
    "import statsmodels.formula.api as smf"
   ]
  },
  {
   "cell_type": "markdown",
   "id": "1ad8d12a-4cd0-4d2d-8da9-c0a7ae893871",
   "metadata": {},
   "source": [
    "- It is assumed that the mean systolic blood pressure is μ = 120 mm Hg. In the Honolulu Heart Study, a sample of n = 100 people had an average systolic blood pressure of 130.1 mm Hg with a standard deviation of 21.21 mm Hg. Is the group significantly different (with respect to systolic blood pressure!) from the regular population?\n",
    "\n",
    "- Set up the hypothesis test.\n",
    "\n",
    "- Write down all the steps followed for setting up the test.\n",
    "\n",
    "- Calculate the test statistic by hand and also code it in Python. It should be 4.76190. We will take a look at how to make decisions based on this calculated value.\n",
    "\n",
    "- If you finished the previous question, please go through the code for principal_component_analysis_example provided in the files_for_lab folder ."
   ]
  },
  {
   "cell_type": "markdown",
   "id": "3cd041e5-8751-447b-8c69-497601db2484",
   "metadata": {},
   "source": [
    "- The mean systolic blood pressure is μ = 120 mm Hg\n",
    "- a sample of n = 100 people had an average systolic blood pressure of 130.1 mm Hg with a standard deviation of 21.21 mm Hg.\n",
    "- Is the group significantly different (with respect to systolic blood pressure!) from the regular population?"
   ]
  },
  {
   "cell_type": "code",
   "execution_count": 8,
   "id": "b19f8f00-650f-4bd6-bb5d-b49caccb27f6",
   "metadata": {},
   "outputs": [
    {
     "name": "stdout",
     "output_type": "stream",
     "text": [
      "Null Hypothesis (H₀): the group has no significantly different from the regular population\n",
      "Alternate Hypothesis (H₁): the group significantly different from the regular population\n"
     ]
    }
   ],
   "source": [
    "# Hypotheses\n",
    "null_hypothesis = \"the group has no significantly different from the regular population\"  # H₀\n",
    "alt_hypothesis = \"the group significantly different from the regular population\"  # H₁\n",
    "\n",
    "print(f\"Null Hypothesis (H₀): {null_hypothesis}\")\n",
    "print(f\"Alternate Hypothesis (H₁): {alt_hypothesis}\")"
   ]
  },
  {
   "cell_type": "code",
   "execution_count": 9,
   "id": "ff94b735-f299-4b42-9b8c-024ae98311d9",
   "metadata": {},
   "outputs": [
    {
     "name": "stdout",
     "output_type": "stream",
     "text": [
      "Level of Significance (α): 0.05\n"
     ]
    }
   ],
   "source": [
    "# level of significance \n",
    "alpha = 0.05\n",
    "print(f\"Level of Significance (α): {alpha}\")"
   ]
  },
  {
   "cell_type": "code",
   "execution_count": 20,
   "id": "1e5684c4-0a66-406d-be12-03300613ed0d",
   "metadata": {},
   "outputs": [],
   "source": [
    "sample_mean = 130.1\n",
    "pop_mean = 120\n",
    "pop_std = 21.21\n",
    "n = 100"
   ]
  },
  {
   "cell_type": "code",
   "execution_count": 21,
   "id": "9fdf4006-22b6-4ff2-bcf1-d57d079408f4",
   "metadata": {},
   "outputs": [
    {
     "name": "stdout",
     "output_type": "stream",
     "text": [
      "Test Statistic (z): 4.7619047619\n"
     ]
    }
   ],
   "source": [
    "# Calculate the test statistic (z-score)\n",
    "\n",
    "z_stat = (sample_mean - pop_mean) / (pop_std / (n**0.5))\n",
    "print(f\"Test Statistic (z): {z_stat:.10f}\")"
   ]
  },
  {
   "cell_type": "code",
   "execution_count": 24,
   "id": "dbdb1286-3884-4b8b-b7f2-4bc83595c942",
   "metadata": {},
   "outputs": [
    {
     "name": "stdout",
     "output_type": "stream",
     "text": [
      "Critical Value: -1.64\n"
     ]
    }
   ],
   "source": [
    "# Critical Value for a one-tailed test\n",
    "critical_value = st.norm.ppf(alpha)\n",
    "print(f\"Critical Value: {critical_value:.2f}\")"
   ]
  },
  {
   "cell_type": "code",
   "execution_count": 30,
   "id": "c16b38fb-e63e-4e90-887f-1000aec87691",
   "metadata": {},
   "outputs": [
    {
     "name": "stdout",
     "output_type": "stream",
     "text": [
      "P-Value: 0.9999990411\n",
      "Fail to Reject the Null Hypothesis: Not a significant result.\n"
     ]
    }
   ],
   "source": [
    "# wrong way \n",
    "# calculating the p-value \n",
    "p_value = st.norm.cdf(z_stat)  # lower-tailed test\n",
    "print(f\"P-Value: {p_value:.10f}\")\n",
    "\n",
    "if p_value < alpha:\n",
    "    print(\"Reject the Null Hypothesis: Significant result.\")\n",
    "else:\n",
    "    print(\"Fail to Reject the Null Hypothesis: Not a significant result.\")"
   ]
  },
  {
   "cell_type": "code",
   "execution_count": 31,
   "id": "25dda411-64ca-400f-b788-6292ebb91ff6",
   "metadata": {},
   "outputs": [
    {
     "name": "stdout",
     "output_type": "stream",
     "text": [
      "P-Value: 0.0000065627\n",
      "Reject the Null Hypothesis: Significant result.\n"
     ]
    }
   ],
   "source": [
    "# Determine p-Value for Two-Tailed Test\n",
    "# p-value using Survival Function (sf) for two-tailed test\n",
    "p_value = st.t.sf(np.abs(z_stat), df=n-1) * 2  # Multiply by 2 for a two-tailed test\n",
    "print(f\"P-Value: {p_value:.10f}\")\n",
    "\n",
    "if p_value < alpha:\n",
    "    print(\"Reject the Null Hypothesis: Significant result.\")\n",
    "else:\n",
    "    print(\"Fail to Reject the Null Hypothesis: Not a significant result.\")"
   ]
  },
  {
   "cell_type": "code",
   "execution_count": 32,
   "id": "970963f4-4d5c-4b9d-886a-c22f60ebb9e5",
   "metadata": {},
   "outputs": [
    {
     "data": {
      "image/png": "[encoded data removed]",
      "text/plain": [
       "<Figure size 432x288 with 1 Axes>"
      ]
     },
     "metadata": {
      "needs_background": "light"
     },
     "output_type": "display_data"
    }
   ],
   "source": [
    "x = np.linspace(-3, 3, 100)\n",
    "y = st.norm.pdf(x)\n",
    "plt.plot(x, y, label=\"Standard Normal Distribution\")\n",
    "plt.fill_between(x, 0, y, where=(x < critical_value), color='red', alpha=0.3, label='Rejection Region')\n",
    "plt.axvline(z_stat, color='blue', linestyle='--', label=f'Test Statistic (z = {z_stat:.2f})')\n",
    "plt.axvline(critical_value, color='red', linestyle='--', label=f'Critical Value (z = {critical_value:.2f})')\n",
    "plt.title(\"Hypothesis Testing Visualization\")\n",
    "plt.legend()\n",
    "plt.show()"
   ]
  },
  {
   "cell_type": "code",
   "execution_count": null,
   "id": "4f7229d2-f707-4255-b0c3-7f0d30a8a54e",
   "metadata": {},
   "outputs": [],
   "source": []
  }
 ],
 "metadata": {
  "kernelspec": {
   "display_name": "Python 3 (ipykernel)",
   "language": "python",
   "name": "python3"
  },
  "language_info": {
   "codemirror_mode": {
    "name": "ipython",
    "version": 3
   },
   "file_extension": ".py",
   "mimetype": "text/x-python",
   "name": "python",
   "nbconvert_exporter": "python",
   "pygments_lexer": "ipython3",
   "version": "3.9.7"
  }
 },
 "nbformat": 4,
 "nbformat_minor": 5
}
